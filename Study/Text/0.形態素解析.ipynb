{
 "cells": [
  {
   "cell_type": "code",
   "execution_count": null,
   "metadata": {},
   "outputs": [],
   "source": [
    "#インストール\n",
    "pip install mecab-python3\n",
    "\n",
    "#辞書インストール\n",
    "pip install unidic-lite"
   ]
  }
 ],
 "metadata": {
  "language_info": {
   "name": "python"
  },
  "orig_nbformat": 4
 },
 "nbformat": 4,
 "nbformat_minor": 2
}
