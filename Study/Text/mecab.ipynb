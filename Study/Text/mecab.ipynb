{
 "cells": [
  {
   "cell_type": "markdown",
   "metadata": {},
   "source": [
    "pipでライブラリのインストールが必要\n",
    "pip install -U pip\n",
    "pip install mecab-python3\n",
    "pip install unidic-lite"
   ]
  },
  {
   "cell_type": "code",
   "execution_count": 2,
   "metadata": {},
   "outputs": [
    {
     "ename": "ImportError",
     "evalue": "DLL load failed while importing _MeCab: 指定されたモジュールが見つかりません。",
     "output_type": "error",
     "traceback": [
      "\u001b[1;31m---------------------------------------------------------------------------\u001b[0m",
      "\u001b[1;31mImportError\u001b[0m                               Traceback (most recent call last)",
      "\u001b[1;32mセル2 を g:\\Job\\Kaggle\\Study\\Text\\0.形態素解析.ipynb\u001b[0m in \u001b[0;36m<cell line: 1>\u001b[1;34m()\u001b[0m\n\u001b[1;32m----> <a href='vscode-notebook-cell:/g%3A/Job/Kaggle/Study/Text/0.%E5%BD%A2%E6%85%8B%E7%B4%A0%E8%A7%A3%E6%9E%90.ipynb#W0sZmlsZQ%3D%3D?line=0'>1</a>\u001b[0m \u001b[39mimport\u001b[39;00m \u001b[39mMeCab\u001b[39;00m\n\u001b[0;32m      <a href='vscode-notebook-cell:/g%3A/Job/Kaggle/Study/Text/0.%E5%BD%A2%E6%85%8B%E7%B4%A0%E8%A7%A3%E6%9E%90.ipynb#W0sZmlsZQ%3D%3D?line=1'>2</a>\u001b[0m wakati \u001b[39m=\u001b[39m MeCab\u001b[39m.\u001b[39mTagger(\u001b[39m\"\u001b[39m\u001b[39m-Owakati\u001b[39m\u001b[39m\"\u001b[39m)\n\u001b[0;32m      <a href='vscode-notebook-cell:/g%3A/Job/Kaggle/Study/Text/0.%E5%BD%A2%E6%85%8B%E7%B4%A0%E8%A7%A3%E6%9E%90.ipynb#W0sZmlsZQ%3D%3D?line=2'>3</a>\u001b[0m wakati\u001b[39m.\u001b[39mparse(\u001b[39m\"\u001b[39m\u001b[39mpythonが大好きです\u001b[39m\u001b[39m\"\u001b[39m)\u001b[39m.\u001b[39msplit()\n",
      "File \u001b[1;32m~\\AppData\\Roaming\\Python\\Python310\\site-packages\\MeCab\\__init__.py:10\u001b[0m, in \u001b[0;36m<module>\u001b[1;34m\u001b[0m\n\u001b[0;32m      1\u001b[0m \u001b[39m# Second-level Python wrappers for the SWIG-generated MeCab interface.\u001b[39;00m\n\u001b[0;32m      2\u001b[0m \u001b[39m# This file bypasses and replaces the SWIG-generated MeCab.py.\u001b[39;00m\n\u001b[0;32m      3\u001b[0m \u001b[39m# Since we use SWIG's `-builtin` mode, it does almost nothing that we\u001b[39;00m\n\u001b[1;32m   (...)\u001b[0m\n\u001b[0;32m      6\u001b[0m \u001b[39m# modifications to MeCab.i, but then we would have to diverge that file\u001b[39;00m\n\u001b[0;32m      7\u001b[0m \u001b[39m# further from upstream.\u001b[39;00m\n\u001b[0;32m      9\u001b[0m \u001b[39mfrom\u001b[39;00m \u001b[39m__future__\u001b[39;00m \u001b[39mimport\u001b[39;00m absolute_import, print_function\n\u001b[1;32m---> 10\u001b[0m \u001b[39mfrom\u001b[39;00m \u001b[39m.\u001b[39;00m \u001b[39mimport\u001b[39;00m _MeCab\n\u001b[0;32m     12\u001b[0m \u001b[39mimport\u001b[39;00m \u001b[39mos\u001b[39;00m\n\u001b[0;32m     13\u001b[0m \u001b[39mimport\u001b[39;00m \u001b[39msys\u001b[39;00m\n",
      "\u001b[1;31mImportError\u001b[0m: DLL load failed while importing _MeCab: 指定されたモジュールが見つかりません。"
     ]
    }
   ],
   "source": [
    "import MeCab\n",
    "wakati = MeCab.Tagger(\"-Owakati\")\n",
    "wakati.parse(\"pythonが大好きです\").split()"
   ]
  }
 ],
 "metadata": {
  "kernelspec": {
   "display_name": "Python 3.10.2 64-bit",
   "language": "python",
   "name": "python3"
  },
  "language_info": {
   "codemirror_mode": {
    "name": "ipython",
    "version": 3
   },
   "file_extension": ".py",
   "mimetype": "text/x-python",
   "name": "python",
   "nbconvert_exporter": "python",
   "pygments_lexer": "ipython3",
   "version": "3.10.2"
  },
  "orig_nbformat": 4,
  "vscode": {
   "interpreter": {
    "hash": "26de051ba29f2982a8de78e945f0abaf191376122a1563185a90213a26c5da77"
   }
  }
 },
 "nbformat": 4,
 "nbformat_minor": 2
}
