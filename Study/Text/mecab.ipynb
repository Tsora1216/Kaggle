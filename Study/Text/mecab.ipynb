{
 "cells": [
  {
   "cell_type": "markdown",
   "metadata": {},
   "source": [
    "pipでライブラリのインストールが必要\n",
    "pip install -U pip\n",
    "pip install mecab-python3\n",
    "pip install unidic-lite"
   ]
  },
  {
   "cell_type": "code",
   "execution_count": 5,
   "metadata": {},
   "outputs": [
    {
     "name": "stdout",
     "output_type": "stream",
     "text": [
      "私\tワタクシ\tワタクシ\t私-代名詞\t代名詞\t\t\t0\n",
      "が\tガ\tガ\tが\t助詞-格助詞\t\t\t\n",
      "持っ\tモッ\tモツ\t持つ\t動詞-一般\t五段-タ行\t連用形-促音便\t1\n",
      "て\tテ\tテ\tて\t助詞-接続助詞\t\t\t\n",
      "いる\tイル\tイル\t居る\t動詞-非自立可能\t上一段-ア行\t連体形-一般\t0\n",
      "クレジット\tクレジット\tクレジット\tクレジット-credit\t名詞-普通名詞-一般\t\t\t2\n",
      "カード\tカード\tカード\tカード-card\t名詞-普通名詞-一般\t\t\t1\n",
      "は\tワ\tハ\tは\t助詞-係助詞\t\t\t\n",
      "JCB\tJCB\tJCB\tJCB\t名詞-普通名詞-一般\t\t\t0\n",
      "と\tト\tト\tと\t助詞-格助詞\t\t\t\n",
      "VISA\tVISA\tVISA\tVISA\t名詞-固有名詞-一般\t\t\t0\n",
      "です\tデス\tデス\tです\t助動詞\t助動詞-デス\t終止形-一般\t\n",
      "。\t\t\t。\t補助記号-句点\t\t\t\n",
      "EOS\n",
      "\n"
     ]
    }
   ],
   "source": [
    "#MeCabを用いた形態素分析\n",
    "import MeCab\n",
    "tagger = MeCab.Tagger() \n",
    "result = tagger.parse('私が持っているクレジットカードはJCBとVISAです。')\n",
    "print(result)\n"
   ]
  },
  {
   "cell_type": "code",
   "execution_count": 6,
   "metadata": {},
   "outputs": [
    {
     "name": "stdout",
     "output_type": "stream",
     "text": [
      "[['私', 'ワタクシ', 'ワタクシ', '私-代名詞', '代名詞', '', '', '0'], ['が', 'ガ', 'ガ', 'が', '助詞-格助詞', '', '', ''], ['持っ', 'モッ', 'モツ', '持つ', '動詞-一般', '五段-タ行', '連用形-促音便', '1'], ['て', 'テ', 'テ', 'て', '助詞-接続助詞', '', '', ''], ['いる', 'イル', 'イル', '居る', '動詞-非自立可能', '上一段-ア行', '連体形-一般', '0'], ['クレジット', 'クレジット', 'クレジット', 'クレジット-credit', '名詞-普通名詞-一般', '', '', '2'], ['カード', 'カード', 'カード', 'カード-card', '名詞-普通名詞-一般', '', '', '1'], ['は', 'ワ', 'ハ', 'は', '助詞-係助詞', '', '', ''], ['JCB', 'JCB', 'JCB', 'JCB', '名詞-普通名詞-一般', '', '', '0'], ['と', 'ト', 'ト', 'と', '助詞-格助詞', '', '', ''], ['VISA', 'VISA', 'VISA', 'VISA', '名詞-固有名詞-一般', '', '', '0'], ['です', 'デス', 'デス', 'です', '助動詞', '助動詞-デス', '終止形-一般', ''], ['。', '', '', '。', '補助記号-句点', '', '', ''], ['EOS']]\n"
     ]
    }
   ],
   "source": [
    "#正規表現を用いて出力フォーマットの変更を行う\n",
    "import re\n",
    "result = [re.split('[,\\t]',x) for x in result.splitlines()]\n",
    "print(result)"
   ]
  },
  {
   "cell_type": "code",
   "execution_count": null,
   "metadata": {},
   "outputs": [],
   "source": []
  }
 ],
 "metadata": {
  "kernelspec": {
   "display_name": "Python 3.10.2 64-bit",
   "language": "python",
   "name": "python3"
  },
  "language_info": {
   "codemirror_mode": {
    "name": "ipython",
    "version": 3
   },
   "file_extension": ".py",
   "mimetype": "text/x-python",
   "name": "python",
   "nbconvert_exporter": "python",
   "pygments_lexer": "ipython3",
   "version": "3.10.2"
  },
  "orig_nbformat": 4,
  "vscode": {
   "interpreter": {
    "hash": "26de051ba29f2982a8de78e945f0abaf191376122a1563185a90213a26c5da77"
   }
  }
 },
 "nbformat": 4,
 "nbformat_minor": 2
}
